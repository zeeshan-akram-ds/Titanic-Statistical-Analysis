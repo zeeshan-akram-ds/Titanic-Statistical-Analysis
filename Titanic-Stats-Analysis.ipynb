{
 "cells": [
  {
   "cell_type": "code",
   "execution_count": 1,
   "id": "14d9ba9d-3da8-4f96-bb2b-c6b3115a188b",
   "metadata": {},
   "outputs": [],
   "source": [
    "import pandas as pd\n",
    "import numpy as np\n",
    "import matplotlib.pyplot as plt\n",
    "import seaborn as sns"
   ]
  },
  {
   "cell_type": "code",
   "execution_count": 2,
   "id": "94891015-c046-4ce7-b345-154d0a042ddd",
   "metadata": {},
   "outputs": [
    {
     "data": {
      "text/html": [
       "<div>\n",
       "<style scoped>\n",
       "    .dataframe tbody tr th:only-of-type {\n",
       "        vertical-align: middle;\n",
       "    }\n",
       "\n",
       "    .dataframe tbody tr th {\n",
       "        vertical-align: top;\n",
       "    }\n",
       "\n",
       "    .dataframe thead th {\n",
       "        text-align: right;\n",
       "    }\n",
       "</style>\n",
       "<table border=\"1\" class=\"dataframe\">\n",
       "  <thead>\n",
       "    <tr style=\"text-align: right;\">\n",
       "      <th></th>\n",
       "      <th>PassengerId</th>\n",
       "      <th>Survived</th>\n",
       "      <th>Pclass</th>\n",
       "      <th>Name</th>\n",
       "      <th>Sex</th>\n",
       "      <th>Age</th>\n",
       "      <th>SibSp</th>\n",
       "      <th>Parch</th>\n",
       "      <th>Ticket</th>\n",
       "      <th>Fare</th>\n",
       "      <th>Cabin</th>\n",
       "      <th>Embarked</th>\n",
       "    </tr>\n",
       "  </thead>\n",
       "  <tbody>\n",
       "    <tr>\n",
       "      <th>0</th>\n",
       "      <td>1</td>\n",
       "      <td>0</td>\n",
       "      <td>3</td>\n",
       "      <td>Braund, Mr. Owen Harris</td>\n",
       "      <td>male</td>\n",
       "      <td>22.0</td>\n",
       "      <td>1</td>\n",
       "      <td>0</td>\n",
       "      <td>A/5 21171</td>\n",
       "      <td>7.2500</td>\n",
       "      <td>NaN</td>\n",
       "      <td>S</td>\n",
       "    </tr>\n",
       "    <tr>\n",
       "      <th>1</th>\n",
       "      <td>2</td>\n",
       "      <td>1</td>\n",
       "      <td>1</td>\n",
       "      <td>Cumings, Mrs. John Bradley (Florence Briggs Th...</td>\n",
       "      <td>female</td>\n",
       "      <td>38.0</td>\n",
       "      <td>1</td>\n",
       "      <td>0</td>\n",
       "      <td>PC 17599</td>\n",
       "      <td>71.2833</td>\n",
       "      <td>C85</td>\n",
       "      <td>C</td>\n",
       "    </tr>\n",
       "    <tr>\n",
       "      <th>2</th>\n",
       "      <td>3</td>\n",
       "      <td>1</td>\n",
       "      <td>3</td>\n",
       "      <td>Heikkinen, Miss. Laina</td>\n",
       "      <td>female</td>\n",
       "      <td>26.0</td>\n",
       "      <td>0</td>\n",
       "      <td>0</td>\n",
       "      <td>STON/O2. 3101282</td>\n",
       "      <td>7.9250</td>\n",
       "      <td>NaN</td>\n",
       "      <td>S</td>\n",
       "    </tr>\n",
       "    <tr>\n",
       "      <th>3</th>\n",
       "      <td>4</td>\n",
       "      <td>1</td>\n",
       "      <td>1</td>\n",
       "      <td>Futrelle, Mrs. Jacques Heath (Lily May Peel)</td>\n",
       "      <td>female</td>\n",
       "      <td>35.0</td>\n",
       "      <td>1</td>\n",
       "      <td>0</td>\n",
       "      <td>113803</td>\n",
       "      <td>53.1000</td>\n",
       "      <td>C123</td>\n",
       "      <td>S</td>\n",
       "    </tr>\n",
       "    <tr>\n",
       "      <th>4</th>\n",
       "      <td>5</td>\n",
       "      <td>0</td>\n",
       "      <td>3</td>\n",
       "      <td>Allen, Mr. William Henry</td>\n",
       "      <td>male</td>\n",
       "      <td>35.0</td>\n",
       "      <td>0</td>\n",
       "      <td>0</td>\n",
       "      <td>373450</td>\n",
       "      <td>8.0500</td>\n",
       "      <td>NaN</td>\n",
       "      <td>S</td>\n",
       "    </tr>\n",
       "  </tbody>\n",
       "</table>\n",
       "</div>"
      ],
      "text/plain": [
       "   PassengerId  Survived  Pclass  \\\n",
       "0            1         0       3   \n",
       "1            2         1       1   \n",
       "2            3         1       3   \n",
       "3            4         1       1   \n",
       "4            5         0       3   \n",
       "\n",
       "                                                Name     Sex   Age  SibSp  \\\n",
       "0                            Braund, Mr. Owen Harris    male  22.0      1   \n",
       "1  Cumings, Mrs. John Bradley (Florence Briggs Th...  female  38.0      1   \n",
       "2                             Heikkinen, Miss. Laina  female  26.0      0   \n",
       "3       Futrelle, Mrs. Jacques Heath (Lily May Peel)  female  35.0      1   \n",
       "4                           Allen, Mr. William Henry    male  35.0      0   \n",
       "\n",
       "   Parch            Ticket     Fare Cabin Embarked  \n",
       "0      0         A/5 21171   7.2500   NaN        S  \n",
       "1      0          PC 17599  71.2833   C85        C  \n",
       "2      0  STON/O2. 3101282   7.9250   NaN        S  \n",
       "3      0            113803  53.1000  C123        S  \n",
       "4      0            373450   8.0500   NaN        S  "
      ]
     },
     "execution_count": 2,
     "metadata": {},
     "output_type": "execute_result"
    }
   ],
   "source": [
    "df = pd.read_csv(\"train.csv\")\n",
    "df = pd.DataFrame(df)\n",
    "df.head()"
   ]
  },
  {
   "cell_type": "code",
   "execution_count": 3,
   "id": "111ca128-a2ea-4f71-86f6-1ca8c8a696e3",
   "metadata": {},
   "outputs": [],
   "source": [
    "# shape of data"
   ]
  },
  {
   "cell_type": "code",
   "execution_count": 4,
   "id": "28fbe67a-9e4a-455c-8b88-54bb61a0dfc2",
   "metadata": {},
   "outputs": [
    {
     "data": {
      "text/plain": [
       "(891, 12)"
      ]
     },
     "execution_count": 4,
     "metadata": {},
     "output_type": "execute_result"
    }
   ],
   "source": [
    "df.shape"
   ]
  },
  {
   "cell_type": "code",
   "execution_count": 5,
   "id": "69c8a7f2-1737-4190-bd9c-a7bc9f35f9ed",
   "metadata": {},
   "outputs": [],
   "source": [
    "# columns "
   ]
  },
  {
   "cell_type": "code",
   "execution_count": 6,
   "id": "6c3e5c0d-921e-4dbd-a751-9287109e7959",
   "metadata": {},
   "outputs": [
    {
     "data": {
      "text/plain": [
       "Index(['PassengerId', 'Survived', 'Pclass', 'Name', 'Sex', 'Age', 'SibSp',\n",
       "       'Parch', 'Ticket', 'Fare', 'Cabin', 'Embarked'],\n",
       "      dtype='object')"
      ]
     },
     "execution_count": 6,
     "metadata": {},
     "output_type": "execute_result"
    }
   ],
   "source": [
    "df.columns"
   ]
  },
  {
   "cell_type": "code",
   "execution_count": 7,
   "id": "961ebfb2-f2de-4609-8d71-4c3ea2387c75",
   "metadata": {},
   "outputs": [
    {
     "name": "stdout",
     "output_type": "stream",
     "text": [
      "<class 'pandas.core.frame.DataFrame'>\n",
      "RangeIndex: 891 entries, 0 to 890\n",
      "Data columns (total 12 columns):\n",
      " #   Column       Non-Null Count  Dtype  \n",
      "---  ------       --------------  -----  \n",
      " 0   PassengerId  891 non-null    int64  \n",
      " 1   Survived     891 non-null    int64  \n",
      " 2   Pclass       891 non-null    int64  \n",
      " 3   Name         891 non-null    object \n",
      " 4   Sex          891 non-null    object \n",
      " 5   Age          714 non-null    float64\n",
      " 6   SibSp        891 non-null    int64  \n",
      " 7   Parch        891 non-null    int64  \n",
      " 8   Ticket       891 non-null    object \n",
      " 9   Fare         891 non-null    float64\n",
      " 10  Cabin        204 non-null    object \n",
      " 11  Embarked     889 non-null    object \n",
      "dtypes: float64(2), int64(5), object(5)\n",
      "memory usage: 83.7+ KB\n"
     ]
    }
   ],
   "source": [
    "# info about data\n",
    "df.info()"
   ]
  },
  {
   "cell_type": "code",
   "execution_count": 8,
   "id": "1aa8c89d-2365-4775-9402-d0fb6769102c",
   "metadata": {},
   "outputs": [],
   "source": [
    "## summary stats"
   ]
  },
  {
   "cell_type": "code",
   "execution_count": 9,
   "id": "7e16eb7f-a88a-42d0-9533-2c62f8d27a47",
   "metadata": {},
   "outputs": [
    {
     "data": {
      "text/html": [
       "<div>\n",
       "<style scoped>\n",
       "    .dataframe tbody tr th:only-of-type {\n",
       "        vertical-align: middle;\n",
       "    }\n",
       "\n",
       "    .dataframe tbody tr th {\n",
       "        vertical-align: top;\n",
       "    }\n",
       "\n",
       "    .dataframe thead th {\n",
       "        text-align: right;\n",
       "    }\n",
       "</style>\n",
       "<table border=\"1\" class=\"dataframe\">\n",
       "  <thead>\n",
       "    <tr style=\"text-align: right;\">\n",
       "      <th></th>\n",
       "      <th>PassengerId</th>\n",
       "      <th>Survived</th>\n",
       "      <th>Pclass</th>\n",
       "      <th>Age</th>\n",
       "      <th>SibSp</th>\n",
       "      <th>Parch</th>\n",
       "      <th>Fare</th>\n",
       "    </tr>\n",
       "  </thead>\n",
       "  <tbody>\n",
       "    <tr>\n",
       "      <th>count</th>\n",
       "      <td>891.000000</td>\n",
       "      <td>891.000000</td>\n",
       "      <td>891.000000</td>\n",
       "      <td>714.000000</td>\n",
       "      <td>891.000000</td>\n",
       "      <td>891.000000</td>\n",
       "      <td>891.000000</td>\n",
       "    </tr>\n",
       "    <tr>\n",
       "      <th>mean</th>\n",
       "      <td>446.000000</td>\n",
       "      <td>0.383838</td>\n",
       "      <td>2.308642</td>\n",
       "      <td>29.699118</td>\n",
       "      <td>0.523008</td>\n",
       "      <td>0.381594</td>\n",
       "      <td>32.204208</td>\n",
       "    </tr>\n",
       "    <tr>\n",
       "      <th>std</th>\n",
       "      <td>257.353842</td>\n",
       "      <td>0.486592</td>\n",
       "      <td>0.836071</td>\n",
       "      <td>14.526497</td>\n",
       "      <td>1.102743</td>\n",
       "      <td>0.806057</td>\n",
       "      <td>49.693429</td>\n",
       "    </tr>\n",
       "    <tr>\n",
       "      <th>min</th>\n",
       "      <td>1.000000</td>\n",
       "      <td>0.000000</td>\n",
       "      <td>1.000000</td>\n",
       "      <td>0.420000</td>\n",
       "      <td>0.000000</td>\n",
       "      <td>0.000000</td>\n",
       "      <td>0.000000</td>\n",
       "    </tr>\n",
       "    <tr>\n",
       "      <th>25%</th>\n",
       "      <td>223.500000</td>\n",
       "      <td>0.000000</td>\n",
       "      <td>2.000000</td>\n",
       "      <td>20.125000</td>\n",
       "      <td>0.000000</td>\n",
       "      <td>0.000000</td>\n",
       "      <td>7.910400</td>\n",
       "    </tr>\n",
       "    <tr>\n",
       "      <th>50%</th>\n",
       "      <td>446.000000</td>\n",
       "      <td>0.000000</td>\n",
       "      <td>3.000000</td>\n",
       "      <td>28.000000</td>\n",
       "      <td>0.000000</td>\n",
       "      <td>0.000000</td>\n",
       "      <td>14.454200</td>\n",
       "    </tr>\n",
       "    <tr>\n",
       "      <th>75%</th>\n",
       "      <td>668.500000</td>\n",
       "      <td>1.000000</td>\n",
       "      <td>3.000000</td>\n",
       "      <td>38.000000</td>\n",
       "      <td>1.000000</td>\n",
       "      <td>0.000000</td>\n",
       "      <td>31.000000</td>\n",
       "    </tr>\n",
       "    <tr>\n",
       "      <th>max</th>\n",
       "      <td>891.000000</td>\n",
       "      <td>1.000000</td>\n",
       "      <td>3.000000</td>\n",
       "      <td>80.000000</td>\n",
       "      <td>8.000000</td>\n",
       "      <td>6.000000</td>\n",
       "      <td>512.329200</td>\n",
       "    </tr>\n",
       "  </tbody>\n",
       "</table>\n",
       "</div>"
      ],
      "text/plain": [
       "       PassengerId    Survived      Pclass         Age       SibSp  \\\n",
       "count   891.000000  891.000000  891.000000  714.000000  891.000000   \n",
       "mean    446.000000    0.383838    2.308642   29.699118    0.523008   \n",
       "std     257.353842    0.486592    0.836071   14.526497    1.102743   \n",
       "min       1.000000    0.000000    1.000000    0.420000    0.000000   \n",
       "25%     223.500000    0.000000    2.000000   20.125000    0.000000   \n",
       "50%     446.000000    0.000000    3.000000   28.000000    0.000000   \n",
       "75%     668.500000    1.000000    3.000000   38.000000    1.000000   \n",
       "max     891.000000    1.000000    3.000000   80.000000    8.000000   \n",
       "\n",
       "            Parch        Fare  \n",
       "count  891.000000  891.000000  \n",
       "mean     0.381594   32.204208  \n",
       "std      0.806057   49.693429  \n",
       "min      0.000000    0.000000  \n",
       "25%      0.000000    7.910400  \n",
       "50%      0.000000   14.454200  \n",
       "75%      0.000000   31.000000  \n",
       "max      6.000000  512.329200  "
      ]
     },
     "execution_count": 9,
     "metadata": {},
     "output_type": "execute_result"
    }
   ],
   "source": [
    "df.describe()"
   ]
  },
  {
   "cell_type": "code",
   "execution_count": 10,
   "id": "5b0485a7-4364-4533-9283-43d18d4680e4",
   "metadata": {},
   "outputs": [],
   "source": [
    "# duplicates"
   ]
  },
  {
   "cell_type": "code",
   "execution_count": 11,
   "id": "f73d579d-d8d7-4185-a6c3-d9e7b0904db4",
   "metadata": {},
   "outputs": [
    {
     "data": {
      "text/plain": [
       "0"
      ]
     },
     "execution_count": 11,
     "metadata": {},
     "output_type": "execute_result"
    }
   ],
   "source": [
    "df.duplicated().sum()"
   ]
  },
  {
   "cell_type": "code",
   "execution_count": 12,
   "id": "7e035c59-7d1b-4072-a9be-26a33504061b",
   "metadata": {},
   "outputs": [],
   "source": [
    "## null values"
   ]
  },
  {
   "cell_type": "code",
   "execution_count": 13,
   "id": "f75362ee-fd81-44e5-8636-1d49e662333a",
   "metadata": {},
   "outputs": [
    {
     "data": {
      "text/plain": [
       "PassengerId      0\n",
       "Survived         0\n",
       "Pclass           0\n",
       "Name             0\n",
       "Sex              0\n",
       "Age            177\n",
       "SibSp            0\n",
       "Parch            0\n",
       "Ticket           0\n",
       "Fare             0\n",
       "Cabin          687\n",
       "Embarked         2\n",
       "dtype: int64"
      ]
     },
     "execution_count": 13,
     "metadata": {},
     "output_type": "execute_result"
    }
   ],
   "source": [
    "df.isnull().sum()"
   ]
  },
  {
   "cell_type": "code",
   "execution_count": 14,
   "id": "1ad7e0be-911f-4087-a4ea-262fa623c4bd",
   "metadata": {},
   "outputs": [],
   "source": [
    "## i will drop cabin column because it contain too many null values so dropping it here is a good choice"
   ]
  },
  {
   "cell_type": "code",
   "execution_count": 15,
   "id": "92caa3aa-453e-4f02-aad1-7049dd451b40",
   "metadata": {},
   "outputs": [],
   "source": [
    "df.drop(columns=['Cabin'], axis=1, inplace=True)"
   ]
  },
  {
   "cell_type": "code",
   "execution_count": 16,
   "id": "785e9de6-2600-4591-9f0f-d2fc8dbc1eb5",
   "metadata": {},
   "outputs": [
    {
     "data": {
      "text/html": [
       "<div>\n",
       "<style scoped>\n",
       "    .dataframe tbody tr th:only-of-type {\n",
       "        vertical-align: middle;\n",
       "    }\n",
       "\n",
       "    .dataframe tbody tr th {\n",
       "        vertical-align: top;\n",
       "    }\n",
       "\n",
       "    .dataframe thead th {\n",
       "        text-align: right;\n",
       "    }\n",
       "</style>\n",
       "<table border=\"1\" class=\"dataframe\">\n",
       "  <thead>\n",
       "    <tr style=\"text-align: right;\">\n",
       "      <th></th>\n",
       "      <th>PassengerId</th>\n",
       "      <th>Survived</th>\n",
       "      <th>Pclass</th>\n",
       "      <th>Name</th>\n",
       "      <th>Sex</th>\n",
       "      <th>Age</th>\n",
       "      <th>SibSp</th>\n",
       "      <th>Parch</th>\n",
       "      <th>Ticket</th>\n",
       "      <th>Fare</th>\n",
       "      <th>Embarked</th>\n",
       "    </tr>\n",
       "  </thead>\n",
       "  <tbody>\n",
       "    <tr>\n",
       "      <th>0</th>\n",
       "      <td>1</td>\n",
       "      <td>0</td>\n",
       "      <td>3</td>\n",
       "      <td>Braund, Mr. Owen Harris</td>\n",
       "      <td>male</td>\n",
       "      <td>22.0</td>\n",
       "      <td>1</td>\n",
       "      <td>0</td>\n",
       "      <td>A/5 21171</td>\n",
       "      <td>7.2500</td>\n",
       "      <td>S</td>\n",
       "    </tr>\n",
       "    <tr>\n",
       "      <th>1</th>\n",
       "      <td>2</td>\n",
       "      <td>1</td>\n",
       "      <td>1</td>\n",
       "      <td>Cumings, Mrs. John Bradley (Florence Briggs Th...</td>\n",
       "      <td>female</td>\n",
       "      <td>38.0</td>\n",
       "      <td>1</td>\n",
       "      <td>0</td>\n",
       "      <td>PC 17599</td>\n",
       "      <td>71.2833</td>\n",
       "      <td>C</td>\n",
       "    </tr>\n",
       "    <tr>\n",
       "      <th>2</th>\n",
       "      <td>3</td>\n",
       "      <td>1</td>\n",
       "      <td>3</td>\n",
       "      <td>Heikkinen, Miss. Laina</td>\n",
       "      <td>female</td>\n",
       "      <td>26.0</td>\n",
       "      <td>0</td>\n",
       "      <td>0</td>\n",
       "      <td>STON/O2. 3101282</td>\n",
       "      <td>7.9250</td>\n",
       "      <td>S</td>\n",
       "    </tr>\n",
       "    <tr>\n",
       "      <th>3</th>\n",
       "      <td>4</td>\n",
       "      <td>1</td>\n",
       "      <td>1</td>\n",
       "      <td>Futrelle, Mrs. Jacques Heath (Lily May Peel)</td>\n",
       "      <td>female</td>\n",
       "      <td>35.0</td>\n",
       "      <td>1</td>\n",
       "      <td>0</td>\n",
       "      <td>113803</td>\n",
       "      <td>53.1000</td>\n",
       "      <td>S</td>\n",
       "    </tr>\n",
       "    <tr>\n",
       "      <th>4</th>\n",
       "      <td>5</td>\n",
       "      <td>0</td>\n",
       "      <td>3</td>\n",
       "      <td>Allen, Mr. William Henry</td>\n",
       "      <td>male</td>\n",
       "      <td>35.0</td>\n",
       "      <td>0</td>\n",
       "      <td>0</td>\n",
       "      <td>373450</td>\n",
       "      <td>8.0500</td>\n",
       "      <td>S</td>\n",
       "    </tr>\n",
       "  </tbody>\n",
       "</table>\n",
       "</div>"
      ],
      "text/plain": [
       "   PassengerId  Survived  Pclass  \\\n",
       "0            1         0       3   \n",
       "1            2         1       1   \n",
       "2            3         1       3   \n",
       "3            4         1       1   \n",
       "4            5         0       3   \n",
       "\n",
       "                                                Name     Sex   Age  SibSp  \\\n",
       "0                            Braund, Mr. Owen Harris    male  22.0      1   \n",
       "1  Cumings, Mrs. John Bradley (Florence Briggs Th...  female  38.0      1   \n",
       "2                             Heikkinen, Miss. Laina  female  26.0      0   \n",
       "3       Futrelle, Mrs. Jacques Heath (Lily May Peel)  female  35.0      1   \n",
       "4                           Allen, Mr. William Henry    male  35.0      0   \n",
       "\n",
       "   Parch            Ticket     Fare Embarked  \n",
       "0      0         A/5 21171   7.2500        S  \n",
       "1      0          PC 17599  71.2833        C  \n",
       "2      0  STON/O2. 3101282   7.9250        S  \n",
       "3      0            113803  53.1000        S  \n",
       "4      0            373450   8.0500        S  "
      ]
     },
     "execution_count": 16,
     "metadata": {},
     "output_type": "execute_result"
    }
   ],
   "source": [
    "df.head()"
   ]
  },
  {
   "cell_type": "code",
   "execution_count": 17,
   "id": "3a1678c0-b8f9-4c68-a9de-270e77d12943",
   "metadata": {},
   "outputs": [],
   "source": [
    "# converting pclass into categorical type for better use in stats analysis"
   ]
  },
  {
   "cell_type": "code",
   "execution_count": 18,
   "id": "f80f3c59-bb1e-4f15-b9c5-6c91cb0daabd",
   "metadata": {},
   "outputs": [],
   "source": [
    "df['Pclass'] = df['Pclass'].astype('category')"
   ]
  },
  {
   "cell_type": "code",
   "execution_count": 19,
   "id": "a5ede85f-0088-4582-8c15-1b088cfacd04",
   "metadata": {},
   "outputs": [],
   "source": [
    "# convert Survived into categorical as well"
   ]
  },
  {
   "cell_type": "code",
   "execution_count": 20,
   "id": "cd57b5a5-d302-48df-8765-da244d4fdcd7",
   "metadata": {},
   "outputs": [],
   "source": [
    "df['Survived'] = df['Survived'].astype('category')"
   ]
  },
  {
   "cell_type": "code",
   "execution_count": 21,
   "id": "c82ea6e8-5d83-4663-b328-be1293b3d64e",
   "metadata": {},
   "outputs": [],
   "source": [
    "# Lets fill missing age values with median but group by with pclass so it makes sense"
   ]
  },
  {
   "cell_type": "code",
   "execution_count": 22,
   "id": "8243933f-14e1-4bc2-ba5d-28a13cc142b9",
   "metadata": {},
   "outputs": [],
   "source": [
    "df['Age'] = df['Age'].fillna(df.groupby('Pclass', observed=False)['Age'].transform('median'))"
   ]
  },
  {
   "cell_type": "code",
   "execution_count": 23,
   "id": "32e825bc-3c11-41bc-94d9-9d2e0ebb83f0",
   "metadata": {},
   "outputs": [],
   "source": [
    "# Only two values are missing so mode is better option"
   ]
  },
  {
   "cell_type": "code",
   "execution_count": 24,
   "id": "38e00ea8-feb7-483e-a389-2a069fb35966",
   "metadata": {},
   "outputs": [],
   "source": [
    "df['Embarked'] = df['Embarked'].fillna(df['Embarked'].mode()[0])"
   ]
  },
  {
   "cell_type": "code",
   "execution_count": 25,
   "id": "68f519e1-cdd0-4a94-a617-aa37c7ac48cd",
   "metadata": {},
   "outputs": [],
   "source": [
    "# EDA"
   ]
  },
  {
   "cell_type": "code",
   "execution_count": 26,
   "id": "c06fcf78-631c-4e56-9fb0-158da6deff1c",
   "metadata": {},
   "outputs": [],
   "source": [
    "# Univariate Analysis"
   ]
  },
  {
   "cell_type": "code",
   "execution_count": 27,
   "id": "188d1dd5-06d3-4f85-8c29-fbb7385e77b9",
   "metadata": {},
   "outputs": [],
   "source": [
    "# Age Distribution"
   ]
  },
  {
   "cell_type": "code",
   "execution_count": 28,
   "id": "3d7eba37-6ea4-4982-891b-15f6dd7bf343",
   "metadata": {},
   "outputs": [
    {
     "data": {
      "text/plain": [
       "Text(0, 0.5, 'Count')"
      ]
     },
     "execution_count": 28,
     "metadata": {},
     "output_type": "execute_result"
    },
    {
     "data": {
      "image/png": "[encoded data removed]",
      "text/plain": [
       "<Figure size 1000x600 with 1 Axes>"
      ]
     },
     "metadata": {},
     "output_type": "display_data"
    }
   ],
   "source": [
    "plt.figure(figsize=(10,6))\n",
    "sns.set_style('darkgrid')\n",
    "sns.histplot(df['Age'], color='r', kde=True)\n",
    "plt.title('Age Distribution',fontsize = 15)\n",
    "plt.xlabel('Age',fontsize = 13)\n",
    "plt.ylabel('Count', fontsize = 13)"
   ]
  },
  {
   "cell_type": "code",
   "execution_count": 29,
   "id": "8d09cc5e-2d1c-4d38-a969-d2cd8543c4e5",
   "metadata": {},
   "outputs": [
    {
     "data": {
      "text/plain": [
       "Text(0, 0.5, 'Count')"
      ]
     },
     "execution_count": 29,
     "metadata": {},
     "output_type": "execute_result"
    },
    {
     "data": {
      "image/png": "[encoded data removed]",
      "text/plain": [
       "<Figure size 1000x600 with 1 Axes>"
      ]
     },
     "metadata": {},
     "output_type": "display_data"
    }
   ],
   "source": [
    "plt.figure(figsize=(10,6))\n",
    "sns.set_style('darkgrid')\n",
    "sns.histplot(df['Fare'], color='r', kde=True)\n",
    "plt.title('Fare Distribution',fontsize = 15)\n",
    "plt.xlabel('Fare',fontsize = 13)\n",
    "plt.ylabel('Count', fontsize = 13)"
   ]
  },
  {
   "cell_type": "code",
   "execution_count": 30,
   "id": "97c13a19-b130-4753-8c3b-b7e370a657bd",
   "metadata": {},
   "outputs": [],
   "source": [
    "## The data is right skewed here because it has long tail."
   ]
  },
  {
   "cell_type": "code",
   "execution_count": 31,
   "id": "9b7450b8-1d2c-47fa-b9f6-0f8a37564ecc",
   "metadata": {},
   "outputs": [
    {
     "data": {
      "text/plain": [
       "<Axes: ylabel='Age'>"
      ]
     },
     "execution_count": 31,
     "metadata": {},
     "output_type": "execute_result"
    },
    {
     "data": {
      "image/png": "[encoded data removed]",
      "text/plain": [
       "<Figure size 640x480 with 1 Axes>"
      ]
     },
     "metadata": {},
     "output_type": "display_data"
    }
   ],
   "source": [
    "sns.boxplot(df['Age'])"
   ]
  },
  {
   "cell_type": "code",
   "execution_count": 32,
   "id": "728463e5-1e43-41d9-83d9-e6ac4db764e0",
   "metadata": {},
   "outputs": [],
   "source": [
    "## It is showing many outliers which are above then 60 but it is not necessary. These may be older individuals and we should first investigate about these\n",
    "## values then decide what to do with them."
   ]
  },
  {
   "cell_type": "code",
   "execution_count": 33,
   "id": "8515734e-e7f6-44c4-83a8-9a3b19f13e7e",
   "metadata": {},
   "outputs": [
    {
     "data": {
      "text/plain": [
       "<Axes: ylabel='Fare'>"
      ]
     },
     "execution_count": 33,
     "metadata": {},
     "output_type": "execute_result"
    },
    {
     "data": {
      "image/png": "[encoded data removed]",
      "text/plain": [
       "<Figure size 640x480 with 1 Axes>"
      ]
     },
     "metadata": {},
     "output_type": "display_data"
    }
   ],
   "source": [
    "sns.boxplot(df['Fare'])"
   ]
  },
  {
   "cell_type": "code",
   "execution_count": 34,
   "id": "08f0837f-9290-4a0c-8e27-32cac743369e",
   "metadata": {},
   "outputs": [],
   "source": [
    "## it is showing many outliers and one of them is more then 500.But it may be the price for any vip person so we have \n",
    "## to investigae about these values and later i will come back here."
   ]
  },
  {
   "cell_type": "code",
   "execution_count": 35,
   "id": "f65bcb12-e863-4631-9432-d72eb93290e3",
   "metadata": {},
   "outputs": [
    {
     "name": "stdout",
     "output_type": "stream",
     "text": [
      "Sex\n",
      "male      577\n",
      "female    314\n",
      "Name: count, dtype: int64\n",
      "Pclass\n",
      "3    491\n",
      "1    216\n",
      "2    184\n",
      "Name: count, dtype: int64\n",
      "Embarked\n",
      "S    646\n",
      "C    168\n",
      "Q     77\n",
      "Name: count, dtype: int64\n",
      "Survived\n",
      "0    549\n",
      "1    342\n",
      "Name: count, dtype: int64\n"
     ]
    }
   ],
   "source": [
    "cols_for_univariate = ['Sex','Pclass','Embarked','Survived']\n",
    "for col in cols_for_univariate:\n",
    "    print(df[col].value_counts())"
   ]
  },
  {
   "cell_type": "code",
   "execution_count": 36,
   "id": "0c4d957a-33f3-46b0-81b5-b56f7c89e637",
   "metadata": {},
   "outputs": [
    {
     "data": {
      "image/png": "[encoded data removed]",
      "text/plain": [
       "<Figure size 1000x600 with 4 Axes>"
      ]
     },
     "metadata": {},
     "output_type": "display_data"
    }
   ],
   "source": [
    "plt.figure(figsize=(10,6))\n",
    "plt.subplot(2,2,1)\n",
    "sns.countplot(df['Sex'])\n",
    "plt.title('Sex')\n",
    "plt.xlabel('Count', fontsize = 14)\n",
    "plt.subplot(2,2,2)\n",
    "sns.countplot(df['Pclass'])\n",
    "plt.title('Pclass')\n",
    "plt.xlabel('Count', fontsize = 14)\n",
    "plt.subplot(2,2,3)\n",
    "sns.countplot(df['Embarked'])\n",
    "plt.title('Embarked')\n",
    "plt.xlabel('Count', fontsize = 14)\n",
    "plt.subplot(2,2,4)\n",
    "sns.countplot(df['Survived'])\n",
    "plt.title('Survived')\n",
    "plt.xlabel('Count', fontsize = 14)\n",
    "plt.tight_layout()"
   ]
  },
  {
   "cell_type": "markdown",
   "id": "ae2f2d71-5039-48bc-95ff-a046b770d958",
   "metadata": {},
   "source": [
    "## Bivariate Analysis"
   ]
  },
  {
   "cell_type": "markdown",
   "id": "c840f2bf-2713-4a0c-b174-7be756585ff0",
   "metadata": {},
   "source": [
    "### Survival vs Gender"
   ]
  },
  {
   "cell_type": "code",
   "execution_count": 39,
   "id": "0651a6c3-bb63-41cd-b701-453ced42b64e",
   "metadata": {},
   "outputs": [
    {
     "data": {
      "text/plain": [
       "Text(0, 0.5, 'Survived')"
      ]
     },
     "execution_count": 39,
     "metadata": {},
     "output_type": "execute_result"
    },
    {
     "data": {
      "image/png": "[encoded data removed]",
      "text/plain": [
       "<Figure size 640x480 with 1 Axes>"
      ]
     },
     "metadata": {},
     "output_type": "display_data"
    }
   ],
   "source": [
    "sns.barplot(x='Sex', y='Survived', data=df, hue = 'Sex', errorbar=('ci', 0))\n",
    "plt.title('Gender vs Survived Bar Plot')\n",
    "plt.xlabel('Sex',fontsize = 13)\n",
    "plt.ylabel('Survived', fontsize=13)"
   ]
  },
  {
   "cell_type": "code",
   "execution_count": 40,
   "id": "06407cd8-37c1-4457-86b3-6577f2148cfc",
   "metadata": {},
   "outputs": [],
   "source": [
    "## It is natural so there are high chance of survived for females."
   ]
  },
  {
   "cell_type": "markdown",
   "id": "38ad919f-c7d1-4bb6-b4e0-19ce1a7bc7f9",
   "metadata": {},
   "source": [
    "### Survival vs Pclass"
   ]
  },
  {
   "cell_type": "code",
   "execution_count": 42,
   "id": "e53351cd-ce37-429e-b70e-ce6723348728",
   "metadata": {},
   "outputs": [
    {
     "data": {
      "text/plain": [
       "Text(0, 0.5, 'Survived')"
      ]
     },
     "execution_count": 42,
     "metadata": {},
     "output_type": "execute_result"
    },
    {
     "data": {
      "image/png": "[encoded data removed]",
      "text/plain": [
       "<Figure size 640x480 with 1 Axes>"
      ]
     },
     "metadata": {},
     "output_type": "display_data"
    }
   ],
   "source": [
    "sns.barplot(x='Pclass', y='Survived', data=df, hue = 'Pclass', errorbar=('ci', 0))\n",
    "plt.title('Pclass vs Survived Bar Plot')\n",
    "plt.xlabel('Pclass',fontsize = 13)\n",
    "plt.ylabel('Survived', fontsize=13)"
   ]
  },
  {
   "cell_type": "code",
   "execution_count": 43,
   "id": "ca0aaecb-8203-408a-bedc-e1bcdfc430db",
   "metadata": {},
   "outputs": [],
   "source": [
    "#### Class 1 people has high chance of survival because more benefits provided to these peoples."
   ]
  },
  {
   "cell_type": "markdown",
   "id": "6bfc91dd-6176-4754-9245-bb87bd8b80b3",
   "metadata": {},
   "source": [
    "### Survival vs Age"
   ]
  },
  {
   "cell_type": "code",
   "execution_count": 45,
   "id": "50433876-c605-4d92-8d30-c617bf2e6fbe",
   "metadata": {},
   "outputs": [
    {
     "data": {
      "text/plain": [
       "Text(0.5, 1.0, 'Boxplot of Age & Survived')"
      ]
     },
     "execution_count": 45,
     "metadata": {},
     "output_type": "execute_result"
    },
    {
     "data": {
      "image/png": "[encoded data removed]",
      "text/plain": [
       "<Figure size 640x480 with 1 Axes>"
      ]
     },
     "metadata": {},
     "output_type": "display_data"
    }
   ],
   "source": [
    "sns.boxplot(x = 'Survived', y = 'Age' , data=df)\n",
    "plt.title('Boxplot of Age & Survived')"
   ]
  },
  {
   "cell_type": "code",
   "execution_count": 46,
   "id": "0ddd4528-bd2c-4e08-b853-e304ac7cdd49",
   "metadata": {},
   "outputs": [],
   "source": [
    "### Younder individuals have higher chance of survival but old ones have low chance of survival."
   ]
  },
  {
   "cell_type": "markdown",
   "id": "84ea7bf7-abd7-4f2b-8fde-f48619ca756b",
   "metadata": {},
   "source": [
    "### Survival vs Fare"
   ]
  },
  {
   "cell_type": "code",
   "execution_count": 48,
   "id": "d6ebacc9-2fff-44c4-96a2-32248194a084",
   "metadata": {},
   "outputs": [
    {
     "data": {
      "text/plain": [
       "Text(0.5, 1.0, 'Boxplot of Fare and Survived')"
      ]
     },
     "execution_count": 48,
     "metadata": {},
     "output_type": "execute_result"
    },
    {
     "data": {
      "image/png": "[encoded data removed]",
      "text/plain": [
       "<Figure size 640x480 with 1 Axes>"
      ]
     },
     "metadata": {},
     "output_type": "display_data"
    }
   ],
   "source": [
    "sns.boxplot(x = 'Survived', y = 'Fare' , data=df)\n",
    "plt.title('Boxplot of Fare and Survived')"
   ]
  },
  {
   "cell_type": "code",
   "execution_count": 49,
   "id": "6fc18dbc-2ffa-4f18-9f81-729956161f4c",
   "metadata": {},
   "outputs": [],
   "source": [
    "### Higher Fare correlate with higher survival rate. It means the passengers who pay more they have better chance of survival , may be they have better\n",
    "## access to lifeboats etc."
   ]
  },
  {
   "cell_type": "markdown",
   "id": "9f50eafe-67a5-4e57-826c-eaeeb3702dfa",
   "metadata": {},
   "source": [
    "### Survival vs Embarked "
   ]
  },
  {
   "cell_type": "code",
   "execution_count": 51,
   "id": "1e5c7ba1-54af-402f-a8cc-63cc88b99b1a",
   "metadata": {},
   "outputs": [
    {
     "data": {
      "image/png": "[encoded data removed]",
      "text/plain": [
       "<Figure size 640x480 with 1 Axes>"
      ]
     },
     "metadata": {},
     "output_type": "display_data"
    }
   ],
   "source": [
    "crosstab = pd.crosstab(df['Embarked'], df['Survived'])\n",
    "plt.bar(crosstab.index, crosstab[0], label='Did Not Survive (0)', color='red')\n",
    "plt.bar(crosstab.index, crosstab[1], bottom=crosstab[0], label='Survived (1)', color='green')\n",
    "plt.xlabel('Embarked')\n",
    "plt.ylabel('Count')\n",
    "plt.title('Stacked Bar Plot of Embarked and Survived')\n",
    "plt.legend()\n",
    "plt.xticks(crosstab.index)\n",
    "plt.show()"
   ]
  },
  {
   "cell_type": "code",
   "execution_count": 52,
   "id": "3c3fcf79-f86b-4f46-b167-42fc9b03f574",
   "metadata": {},
   "outputs": [],
   "source": [
    "## Mostly passengers survived in S class but also died in S class"
   ]
  },
  {
   "cell_type": "markdown",
   "id": "e6c74d61-b6cc-42f7-a037-b9de079f87a4",
   "metadata": {},
   "source": [
    "### Correlation Between Numerical Features"
   ]
  },
  {
   "cell_type": "code",
   "execution_count": 54,
   "id": "823ff523-297c-4c7c-9ca3-4c005124a7c7",
   "metadata": {},
   "outputs": [],
   "source": [
    "fare_age_data = df[['Fare', 'Age']].copy()"
   ]
  },
  {
   "cell_type": "code",
   "execution_count": 55,
   "id": "c54af5ce-1c48-4abf-b96e-cc82fb4a24de",
   "metadata": {},
   "outputs": [
    {
     "data": {
      "image/png": "[encoded data removed]",
      "text/plain": [
       "<Figure size 800x600 with 2 Axes>"
      ]
     },
     "metadata": {},
     "output_type": "display_data"
    }
   ],
   "source": [
    "corr = fare_age_data.corr()\n",
    "plt.figure(figsize=(8, 6))\n",
    "sns.heatmap(corr, annot=True, cmap='coolwarm', vmin=-1, vmax=1)\n",
    "plt.title('Correlation Heatmap: Fare vs. Age (Titanic)')\n",
    "plt.show()"
   ]
  },
  {
   "cell_type": "code",
   "execution_count": 56,
   "id": "d7e0db5c-b48b-44dd-8aad-4ee4bd713816",
   "metadata": {},
   "outputs": [],
   "source": [
    "### there is very weak correlation between fare and age"
   ]
  },
  {
   "cell_type": "markdown",
   "id": "d9bd12bb-6c5a-4f41-9a07-18a1faf9568e",
   "metadata": {},
   "source": [
    "### Multivariate Analysis & Statistical Tests"
   ]
  },
  {
   "cell_type": "code",
   "execution_count": 58,
   "id": "09b535d8-4a11-44a5-87e9-9d4d4df11c3f",
   "metadata": {},
   "outputs": [
    {
     "name": "stdout",
     "output_type": "stream",
     "text": [
      "Survival Rate by Sex & Pclass\n",
      "\n",
      " Survived         0   1\n",
      "Sex    Pclass         \n",
      "female 1         3  91\n",
      "       2         6  70\n",
      "       3        72  72\n",
      "male   1        77  45\n",
      "       2        91  17\n",
      "       3       300  47\n"
     ]
    }
   ],
   "source": [
    "crosstab_sex_pclass = pd.crosstab([df['Sex'], df['Pclass']], df['Survived'])\n",
    "print(\"Survival Rate by Sex & Pclass\\n\\n\", crosstab_sex_pclass)"
   ]
  },
  {
   "cell_type": "markdown",
   "id": "2b085979-6234-4a5b-b4b7-ed0354f21481",
   "metadata": {},
   "source": [
    "Female passengers in higher classes (1st & 2nd) had very high survival rates—over 90% for 1st class.\n",
    "Female 3rd class had a 50% survival rate, which is still higher than any male group.\n",
    "\n",
    "Male passengers had significantly lower survival chances in all classes—especially in 3rd class, where only 13% survived.  \n",
    "**Interpretation**: Being female and in a higher class significantly improved the chances of survival—likely due to evacuation priority protocols (\"women and children first\")."
   ]
  },
  {
   "cell_type": "code",
   "execution_count": 60,
   "id": "7e3ae8d4-f3a6-4360-ba63-7ee6e4b7b990",
   "metadata": {},
   "outputs": [
    {
     "name": "stdout",
     "output_type": "stream",
     "text": [
      "Survival Rate by Embarked & Sex\n",
      "\n",
      " Survived           0    1\n",
      "Embarked Sex             \n",
      "C        female    9   64\n",
      "         male     66   29\n",
      "Q        female    9   27\n",
      "         male     38    3\n",
      "S        female   63  142\n",
      "         male    364   77\n"
     ]
    }
   ],
   "source": [
    "crosstab_embarked_sex = pd.crosstab([df['Embarked'], df['Sex']], df['Survived'])\n",
    "print(\"Survival Rate by Embarked & Sex\\n\\n\", crosstab_embarked_sex)"
   ]
  },
  {
   "cell_type": "markdown",
   "id": "a51e3232-790a-4d61-a519-65392d2a83d3",
   "metadata": {},
   "source": [
    "Females had high survival rates from all ports, especially from port C (Cherbourg).\n",
    "Males from port Q (Queenstown) had the lowest survival — only 3 out of 41.\n",
    "\n",
    "The majority of deaths were males from port S."
   ]
  },
  {
   "cell_type": "code",
   "execution_count": 62,
   "id": "b5c8ae63-3535-4cbf-a8cd-087f4e6a9abe",
   "metadata": {},
   "outputs": [
    {
     "name": "stdout",
     "output_type": "stream",
     "text": [
      "Survival Rate by Pclass & Embarked\n",
      "\n",
      " Survived           0   1\n",
      "Pclass Embarked         \n",
      "1      C          26  59\n",
      "       Q           1   1\n",
      "       S          53  76\n",
      "2      C           8   9\n",
      "       Q           1   2\n",
      "       S          88  76\n",
      "3      C          41  25\n",
      "       Q          45  27\n",
      "       S         286  67\n"
     ]
    }
   ],
   "source": [
    "crosstab_pclass_embarked = pd.crosstab([df['Pclass'], df['Embarked']], df['Survived'])\n",
    "print(\"Survival Rate by Pclass & Embarked\\n\\n\", crosstab_pclass_embarked)"
   ]
  },
  {
   "cell_type": "markdown",
   "id": "b7be3bd2-b693-4734-acf2-42a6216ad534",
   "metadata": {},
   "source": [
    "1st class from port C had highest survival rates, with more than double survivors compared to non-survivors.\n",
    "\n",
    "3rd class from port S and Q had very poor survival rate port S, with 286 deaths out of 353 passengers.\n",
    "Class and embarkation together affect survival, likely due to physical location on the ship and access to lifeboats."
   ]
  },
  {
   "cell_type": "markdown",
   "id": "8992b547-a645-4c79-b7f8-1837e8eea631",
   "metadata": {},
   "source": [
    "## Chi-Square Test (For Categorical Features)"
   ]
  },
  {
   "cell_type": "code",
   "execution_count": 65,
   "id": "8ddc1385-6f78-4a16-b5e4-03a77b8cbe68",
   "metadata": {},
   "outputs": [],
   "source": [
    "from scipy.stats import chi2_contingency"
   ]
  },
  {
   "cell_type": "code",
   "execution_count": 66,
   "id": "bd8fa1c3-d41d-441a-9956-d81f1f95772c",
   "metadata": {},
   "outputs": [
    {
     "name": "stdout",
     "output_type": "stream",
     "text": [
      "Chi-Squared Test: Survived vs. Sex\n",
      "Chi-Squared Value: 260.71702016732104\n",
      "P-value: 1.1973570627755645e-58\n",
      "Degrees of Freedom: 1\n",
      "Result: Sex and Survived are likely dependent.\n",
      "Chi-Squared Test: Survived vs. Pclass\n",
      "Chi-Squared Value: 102.88898875696056\n",
      "P-value: 4.549251711298793e-23\n",
      "Degrees of Freedom: 2\n",
      "Result: Pclass and Survived are likely dependent.\n",
      "Chi-Squared Test: Survived vs. Embarked\n",
      "Chi-Squared Value: 25.964452881874784\n",
      "P-value: 2.3008626481449577e-06\n",
      "Degrees of Freedom: 2\n",
      "Result: Embarked and Survived are likely dependent.\n"
     ]
    }
   ],
   "source": [
    "def chi_squared_test(column, target):\n",
    "    \"\"\"Performing Chi-Squared test.\"\"\"\n",
    "\n",
    "    contingency_table = pd.crosstab(df[column], df[target])\n",
    "    chi2, p, dof, expected = chi2_contingency(contingency_table)\n",
    "\n",
    "    print(f\"Chi-Squared Test: {target} vs. {column}\")\n",
    "    print(f\"Chi-Squared Value: {chi2}\")\n",
    "    print(f\"P-value: {p}\")\n",
    "    print(f\"Degrees of Freedom: {dof}\")\n",
    "\n",
    "    if p < 0.05:\n",
    "        print(f\"Result: {column} and {target} are likely dependent.\")\n",
    "    else:\n",
    "        print(f\"Result: {column} and {target} are likely independent.\")\n",
    "chi_squared_test('Sex', 'Survived')\n",
    "chi_squared_test('Pclass', 'Survived')\n",
    "chi_squared_test('Embarked', 'Survived')"
   ]
  },
  {
   "cell_type": "markdown",
   "id": "1ad8cd61-049c-4f4d-b9b9-5c0c26a6b2c7",
   "metadata": {},
   "source": [
    "I conducted the Chi-Squared test to statistically determine whether there's a significant relationship  \n",
    "between the categorical feature and the survival status of passengers.  \n",
    "**Survived vs. Sex**:  \n",
    "Since the p-value is far less than 0.05, i reject the null hypothesis.  \n",
    "There is a strong statistical association between a passenger's sex and survival.  \n",
    "**Survived vs. Pclass**:  \n",
    "Again, the very small p-value indicates a statistically significant relationship between passenger class and survival.  \n",
    "This confirms our visual and group analysis: higher-class passengers had better survival chances.  \n",
    "**Survived vs. Embarked**:  \n",
    "The result shows a significant dependence between port of embarkation and survival.  "
   ]
  },
  {
   "cell_type": "markdown",
   "id": "c6eb52a4-68b5-4962-aaad-3ef75b0ff166",
   "metadata": {},
   "source": [
    "## ANOVA Test (For Numerical vs Categorical)"
   ]
  },
  {
   "cell_type": "code",
   "execution_count": 69,
   "id": "0b65726e-33c5-4cab-aaf6-c2d6947030b7",
   "metadata": {},
   "outputs": [],
   "source": [
    "import statsmodels.api as sm\n",
    "from statsmodels.formula.api import ols\n",
    "from statsmodels.stats.multicomp import pairwise_tukeyhsd"
   ]
  },
  {
   "cell_type": "code",
   "execution_count": 70,
   "id": "b5eb1c7a-7bad-412e-8f57-e7eabedcd6ac",
   "metadata": {},
   "outputs": [
    {
     "name": "stdout",
     "output_type": "stream",
     "text": [
      "Fare by Pclass\n",
      "                 sum_sq     df           F        PR(>F)\n",
      "C(Pclass)  7.760301e+05    2.0  242.344157  1.031376e-84\n",
      "Residual   1.421769e+06  888.0         NaN           NaN\n",
      "Age by Survived\n",
      "                    sum_sq     df         F    PR(>F)\n",
      "C(Survived)     348.619386    1.0  1.989578  0.158735\n",
      "Residual     155773.065721  889.0       NaN       NaN\n",
      " Multiple Comparison of Means - Tukey HSD, FWER=0.05 \n",
      "=====================================================\n",
      "group1 group2 meandiff p-adj  lower    upper   reject\n",
      "-----------------------------------------------------\n",
      "     1      2 -63.4925   0.0 -72.9165 -54.0685   True\n",
      "     1      3 -70.4791   0.0 -78.1489 -62.8094   True\n",
      "     2      3  -6.9866 0.108 -15.1064   1.1331  False\n",
      "-----------------------------------------------------\n"
     ]
    }
   ],
   "source": [
    "model_fare_pclass = ols('Fare ~ C(Pclass)', data=df).fit()\n",
    "anova_fare_pclass = sm.stats.anova_lm(model_fare_pclass, typ=2)\n",
    "print(\"Fare by Pclass\")\n",
    "print(anova_fare_pclass)\n",
    "model_age_survived = ols('Age ~ C(Survived)', data=df).fit()\n",
    "anova_age_survived = sm.stats.anova_lm(model_age_survived, typ=2)\n",
    "tukey_fare = pairwise_tukeyhsd(df['Fare'], df['Pclass'], alpha=0.05)\n",
    "print(\"Age by Survived\")\n",
    "print(anova_age_survived)\n",
    "print(tukey_fare.summary())"
   ]
  },
  {
   "cell_type": "markdown",
   "id": "900a0f5b-242f-4ce5-9b5a-66f5378dd9cc",
   "metadata": {},
   "source": [
    "**Fare by Pclass**:  \n",
    "The extremely small p-value indicates a very strong statistical difference in mean fare across different passenger classes.  \n",
    "This supports our prior observations — higher-class passengers paid significantly more than those in lower classes.  \n",
    "**Age by Survived**:  \n",
    "The p-value is greater than 0.05, so we fail to reject the null hypothesis.  \n",
    "This suggests that there is no statistically significant difference in average age between those who survived and those who didn't.  \n",
    "Although we earlier observed some visual age patterns (younger people surviving more), this result shows that age alone may not be a strong predictor without considering interactions with others (like sex or class).  \n",
    "**Tukey HSD Results**:  \n",
    "Post-hoc analysis revealed that the average fare paid by passengers in Pclass 1 is significantly higher than those in Pclass 2 and 3, confirming class as a major factor influencing fare. However, there was no significant fare difference between Pclass 2 and 3."
   ]
  },
  {
   "cell_type": "code",
   "execution_count": 72,
   "id": "44dd478c-3887-44e2-a706-d0b14d16a407",
   "metadata": {},
   "outputs": [],
   "source": [
    "numerical_data = df[['Survived', 'Pclass', 'Age', 'SibSp', 'Parch', 'Fare']].copy()"
   ]
  },
  {
   "cell_type": "code",
   "execution_count": 73,
   "id": "bc8ce6c2-7e44-45dd-96f6-b75fab461712",
   "metadata": {},
   "outputs": [],
   "source": [
    "numerical_data['Survived'] = numerical_data['Survived'].astype(int)"
   ]
  },
  {
   "cell_type": "code",
   "execution_count": 74,
   "id": "7c24c552-c078-4c62-82af-c1b1c389ed37",
   "metadata": {},
   "outputs": [
    {
     "data": {
      "image/png": "[encoded data removed]",
      "text/plain": [
       "<Figure size 1000x800 with 2 Axes>"
      ]
     },
     "metadata": {},
     "output_type": "display_data"
    }
   ],
   "source": [
    "correlation_matrix = numerical_data.corr()\n",
    "plt.figure(figsize=(10, 8))\n",
    "sns.heatmap(correlation_matrix, annot=True, cmap='coolwarm', vmin=-1, vmax=1)\n",
    "plt.title('Correlation Heatmap: Numerical Features and Survived')\n",
    "plt.show()"
   ]
  },
  {
   "cell_type": "code",
   "execution_count": 75,
   "id": "c61fb54e-28a5-4794-9d2c-9ade6bbdc8b1",
   "metadata": {},
   "outputs": [
    {
     "data": {
      "text/plain": [
       "(array([ 27,  88, 118, 258, 299, 311, 341, 377, 380, 438, 527, 557, 679,\n",
       "        689, 700, 716, 730, 737, 742, 779], dtype=int64),)"
      ]
     },
     "execution_count": 75,
     "metadata": {},
     "output_type": "execute_result"
    }
   ],
   "source": [
    "from scipy.stats import zscore\n",
    "z = np.abs(zscore(df['Fare']))\n",
    "outliers = np.where(z>3)\n",
    "outliers"
   ]
  },
  {
   "cell_type": "code",
   "execution_count": 76,
   "id": "06d2f965-72e5-4ef9-bb71-5c29cd9e4964",
   "metadata": {},
   "outputs": [
    {
     "name": "stdout",
     "output_type": "stream",
     "text": [
      "        Age      Fare\n",
      "0 -0.533834 -0.502445\n",
      "1  0.674891  0.786845\n",
      "2 -0.231653 -0.488854\n",
      "3  0.448255  0.420730\n",
      "4  0.448255 -0.486337\n"
     ]
    }
   ],
   "source": [
    "from sklearn.preprocessing import StandardScaler\n",
    "cols = ['Age', 'Fare']\n",
    "\n",
    "# Handle missing values (imputation example: using median)\n",
    "df['Age'].fillna(df['Age'].median())\n",
    "df['Fare'].fillna(df['Fare'].median())\n",
    "\n",
    "# Scale the data\n",
    "scaler = StandardScaler()\n",
    "scaled_data = scaler.fit_transform(df[cols])\n",
    "\n",
    "# Convert the scaled data back to a DataFrame with the original index\n",
    "df[cols] = pd.DataFrame(scaled_data, columns=cols, index=df.index)\n",
    "\n",
    "print(df[cols].head())"
   ]
  },
  {
   "cell_type": "code",
   "execution_count": 77,
   "id": "c1f2b5c4-605e-4cc9-8064-f134186d08f9",
   "metadata": {},
   "outputs": [],
   "source": [
    "df['Sex'] = df['Sex'].map({'male':0,'female':1})"
   ]
  },
  {
   "cell_type": "code",
   "execution_count": 78,
   "id": "645a533e-acf3-43d4-a382-4c6a3c715d83",
   "metadata": {},
   "outputs": [],
   "source": [
    "encoded = pd.get_dummies(df['Embarked'], drop_first=True)"
   ]
  },
  {
   "cell_type": "code",
   "execution_count": 79,
   "id": "e0023084-890b-40d4-b870-6dc1f372df8f",
   "metadata": {},
   "outputs": [],
   "source": [
    "df = pd.concat([df, encoded], axis = 1)\n",
    "df[['Q','S']] = df[['Q','S']].astype(int)"
   ]
  },
  {
   "cell_type": "code",
   "execution_count": 80,
   "id": "022fe0ef-58f2-4f95-9027-04aefcd1a2ec",
   "metadata": {},
   "outputs": [
    {
     "data": {
      "text/html": [
       "<div>\n",
       "<style scoped>\n",
       "    .dataframe tbody tr th:only-of-type {\n",
       "        vertical-align: middle;\n",
       "    }\n",
       "\n",
       "    .dataframe tbody tr th {\n",
       "        vertical-align: top;\n",
       "    }\n",
       "\n",
       "    .dataframe thead th {\n",
       "        text-align: right;\n",
       "    }\n",
       "</style>\n",
       "<table border=\"1\" class=\"dataframe\">\n",
       "  <thead>\n",
       "    <tr style=\"text-align: right;\">\n",
       "      <th></th>\n",
       "      <th>PassengerId</th>\n",
       "      <th>Survived</th>\n",
       "      <th>Pclass</th>\n",
       "      <th>Name</th>\n",
       "      <th>Sex</th>\n",
       "      <th>Age</th>\n",
       "      <th>SibSp</th>\n",
       "      <th>Parch</th>\n",
       "      <th>Ticket</th>\n",
       "      <th>Fare</th>\n",
       "      <th>Embarked</th>\n",
       "      <th>Q</th>\n",
       "      <th>S</th>\n",
       "    </tr>\n",
       "  </thead>\n",
       "  <tbody>\n",
       "    <tr>\n",
       "      <th>0</th>\n",
       "      <td>1</td>\n",
       "      <td>0</td>\n",
       "      <td>3</td>\n",
       "      <td>Braund, Mr. Owen Harris</td>\n",
       "      <td>0</td>\n",
       "      <td>-0.533834</td>\n",
       "      <td>1</td>\n",
       "      <td>0</td>\n",
       "      <td>A/5 21171</td>\n",
       "      <td>-0.502445</td>\n",
       "      <td>S</td>\n",
       "      <td>0</td>\n",
       "      <td>1</td>\n",
       "    </tr>\n",
       "    <tr>\n",
       "      <th>1</th>\n",
       "      <td>2</td>\n",
       "      <td>1</td>\n",
       "      <td>1</td>\n",
       "      <td>Cumings, Mrs. John Bradley (Florence Briggs Th...</td>\n",
       "      <td>1</td>\n",
       "      <td>0.674891</td>\n",
       "      <td>1</td>\n",
       "      <td>0</td>\n",
       "      <td>PC 17599</td>\n",
       "      <td>0.786845</td>\n",
       "      <td>C</td>\n",
       "      <td>0</td>\n",
       "      <td>0</td>\n",
       "    </tr>\n",
       "    <tr>\n",
       "      <th>2</th>\n",
       "      <td>3</td>\n",
       "      <td>1</td>\n",
       "      <td>3</td>\n",
       "      <td>Heikkinen, Miss. Laina</td>\n",
       "      <td>1</td>\n",
       "      <td>-0.231653</td>\n",
       "      <td>0</td>\n",
       "      <td>0</td>\n",
       "      <td>STON/O2. 3101282</td>\n",
       "      <td>-0.488854</td>\n",
       "      <td>S</td>\n",
       "      <td>0</td>\n",
       "      <td>1</td>\n",
       "    </tr>\n",
       "    <tr>\n",
       "      <th>3</th>\n",
       "      <td>4</td>\n",
       "      <td>1</td>\n",
       "      <td>1</td>\n",
       "      <td>Futrelle, Mrs. Jacques Heath (Lily May Peel)</td>\n",
       "      <td>1</td>\n",
       "      <td>0.448255</td>\n",
       "      <td>1</td>\n",
       "      <td>0</td>\n",
       "      <td>113803</td>\n",
       "      <td>0.420730</td>\n",
       "      <td>S</td>\n",
       "      <td>0</td>\n",
       "      <td>1</td>\n",
       "    </tr>\n",
       "    <tr>\n",
       "      <th>4</th>\n",
       "      <td>5</td>\n",
       "      <td>0</td>\n",
       "      <td>3</td>\n",
       "      <td>Allen, Mr. William Henry</td>\n",
       "      <td>0</td>\n",
       "      <td>0.448255</td>\n",
       "      <td>0</td>\n",
       "      <td>0</td>\n",
       "      <td>373450</td>\n",
       "      <td>-0.486337</td>\n",
       "      <td>S</td>\n",
       "      <td>0</td>\n",
       "      <td>1</td>\n",
       "    </tr>\n",
       "  </tbody>\n",
       "</table>\n",
       "</div>"
      ],
      "text/plain": [
       "   PassengerId Survived Pclass  \\\n",
       "0            1        0      3   \n",
       "1            2        1      1   \n",
       "2            3        1      3   \n",
       "3            4        1      1   \n",
       "4            5        0      3   \n",
       "\n",
       "                                                Name  Sex       Age  SibSp  \\\n",
       "0                            Braund, Mr. Owen Harris    0 -0.533834      1   \n",
       "1  Cumings, Mrs. John Bradley (Florence Briggs Th...    1  0.674891      1   \n",
       "2                             Heikkinen, Miss. Laina    1 -0.231653      0   \n",
       "3       Futrelle, Mrs. Jacques Heath (Lily May Peel)    1  0.448255      1   \n",
       "4                           Allen, Mr. William Henry    0  0.448255      0   \n",
       "\n",
       "   Parch            Ticket      Fare Embarked  Q  S  \n",
       "0      0         A/5 21171 -0.502445        S  0  1  \n",
       "1      0          PC 17599  0.786845        C  0  0  \n",
       "2      0  STON/O2. 3101282 -0.488854        S  0  1  \n",
       "3      0            113803  0.420730        S  0  1  \n",
       "4      0            373450 -0.486337        S  0  1  "
      ]
     },
     "execution_count": 80,
     "metadata": {},
     "output_type": "execute_result"
    }
   ],
   "source": [
    "df.head()"
   ]
  },
  {
   "cell_type": "code",
   "execution_count": 81,
   "id": "e6d7a4cd-06fa-4762-b063-95f2435eb467",
   "metadata": {},
   "outputs": [],
   "source": [
    "df['family_size'] = df['Parch'] + df['SibSp'] + 1"
   ]
  },
  {
   "cell_type": "code",
   "execution_count": 82,
   "id": "8707be49-cab5-4e48-9e56-5d28b1bc1c26",
   "metadata": {},
   "outputs": [],
   "source": [
    "df['is_alone'] = df['family_size'].apply(lambda x: 1 if x == 1 else 0)"
   ]
  },
  {
   "cell_type": "code",
   "execution_count": 83,
   "id": "49522ee0-d562-4773-a8c3-0cb3e6143231",
   "metadata": {},
   "outputs": [],
   "source": [
    "X = df.drop(columns=['PassengerId','Survived','Name','Ticket','SibSp','Parch','Embarked'], axis=1)\n",
    "y = df['Survived'].astype(int)"
   ]
  },
  {
   "cell_type": "code",
   "execution_count": 84,
   "id": "b691eea1-5eb0-4951-ae67-71b2e472cc7f",
   "metadata": {},
   "outputs": [
    {
     "data": {
      "text/plain": [
       "Index(['Pclass', 'Sex', 'Age', 'Fare', 'Q', 'S', 'family_size', 'is_alone'], dtype='object')"
      ]
     },
     "execution_count": 84,
     "metadata": {},
     "output_type": "execute_result"
    }
   ],
   "source": [
    "X.columns"
   ]
  },
  {
   "cell_type": "code",
   "execution_count": 85,
   "id": "fec48493-04ba-4be2-9c35-99397592b310",
   "metadata": {},
   "outputs": [
    {
     "name": "stdout",
     "output_type": "stream",
     "text": [
      "<class 'pandas.core.frame.DataFrame'>\n",
      "RangeIndex: 891 entries, 0 to 890\n",
      "Data columns (total 15 columns):\n",
      " #   Column       Non-Null Count  Dtype   \n",
      "---  ------       --------------  -----   \n",
      " 0   PassengerId  891 non-null    int64   \n",
      " 1   Survived     891 non-null    category\n",
      " 2   Pclass       891 non-null    category\n",
      " 3   Name         891 non-null    object  \n",
      " 4   Sex          891 non-null    int64   \n",
      " 5   Age          891 non-null    float64 \n",
      " 6   SibSp        891 non-null    int64   \n",
      " 7   Parch        891 non-null    int64   \n",
      " 8   Ticket       891 non-null    object  \n",
      " 9   Fare         891 non-null    float64 \n",
      " 10  Embarked     891 non-null    object  \n",
      " 11  Q            891 non-null    int32   \n",
      " 12  S            891 non-null    int32   \n",
      " 13  family_size  891 non-null    int64   \n",
      " 14  is_alone     891 non-null    int64   \n",
      "dtypes: category(2), float64(2), int32(2), int64(6), object(3)\n",
      "memory usage: 85.7+ KB\n"
     ]
    }
   ],
   "source": [
    "df.info()"
   ]
  },
  {
   "cell_type": "code",
   "execution_count": 86,
   "id": "2816f10b-ad6d-4b10-80c9-9002089e9465",
   "metadata": {},
   "outputs": [],
   "source": [
    "from sklearn.model_selection import train_test_split\n",
    "X_train, X_test, y_train, y_test = train_test_split(X, y, test_size=0.2, random_state=42)"
   ]
  },
  {
   "cell_type": "code",
   "execution_count": 87,
   "id": "6aa45271-f4cd-4526-9b45-a98941bb9792",
   "metadata": {},
   "outputs": [
    {
     "name": "stdout",
     "output_type": "stream",
     "text": [
      "\n",
      "Accuracy is: 0.8379888268156425\n",
      "\n",
      "cls is:               precision    recall  f1-score   support\n",
      "\n",
      "           0       0.86      0.87      0.86       105\n",
      "           1       0.81      0.80      0.80        74\n",
      "\n",
      "    accuracy                           0.84       179\n",
      "   macro avg       0.83      0.83      0.83       179\n",
      "weighted avg       0.84      0.84      0.84       179\n",
      "\n",
      "\n",
      "cm is: [[91 14]\n",
      " [15 59]]\n"
     ]
    }
   ],
   "source": [
    "from sklearn.ensemble import RandomForestClassifier\n",
    "rfc = RandomForestClassifier(random_state = 42)\n",
    "model_rfc = rfc.fit(X_train, y_train)\n",
    "y_pred = model_rfc.predict(X_test)\n",
    "from sklearn.metrics import accuracy_score, classification_report, confusion_matrix\n",
    "print(f'\\nAccuracy is:', accuracy_score(y_test, y_pred))\n",
    "print(f'\\ncls is:', classification_report(y_test, y_pred))\n",
    "print(f'\\ncm is:', confusion_matrix(y_test, y_pred))"
   ]
  },
  {
   "cell_type": "code",
   "execution_count": 88,
   "id": "a89d242c-bd32-45f1-a963-96698ed651e7",
   "metadata": {},
   "outputs": [],
   "source": [
    "## Visualize Feature Importance"
   ]
  },
  {
   "cell_type": "code",
   "execution_count": 170,
   "id": "c3279376-4cf0-4204-9604-56899d5349a3",
   "metadata": {},
   "outputs": [
    {
     "data": {
      "image/png": "[encoded data removed]",
      "text/plain": [
       "<Figure size 640x480 with 1 Axes>"
      ]
     },
     "metadata": {},
     "output_type": "display_data"
    }
   ],
   "source": [
    "importances = model_rfc.feature_importances_\n",
    "\n",
    "features = X_train.columns\n",
    "\n",
    "feature_importance_df = pd.DataFrame({\n",
    "    'Feature': features,\n",
    "    'Importance': importances\n",
    "})\n",
    "\n",
    "# Sorting\n",
    "feature_importance_df = feature_importance_df.sort_values(by='Importance', ascending=False)\n",
    "\n",
    "sns.barplot(x='Importance', y='Feature', data=feature_importance_df)\n",
    "plt.title(\"Feature Importance - Random Forest\")\n",
    "plt.show()"
   ]
  },
  {
   "cell_type": "markdown",
   "id": "14db8f26-7407-42dd-9c53-5f56d9194537",
   "metadata": {},
   "source": [
    "Fare and Age are the most important factors, with higher fares and younger ages strongly correlating with higher survival rates.  \n",
    "Sex (female) is also highly significant, reflecting prioritization of women in the lifeboats.  \n",
    "Pclass (passenger class) plays a role, with first-class passengers having a higher chance of survival.  \n",
    "Family Size indicates a slight impact, suggesting that passengers traveling alone may have had a lower survival rate.  \n",
    "Embarked locations have a minimal influence on survival chances.  \n",
    "Is Alone (whether a passenger was traveling solo) has the least impact on survival prediction."
   ]
  },
  {
   "cell_type": "code",
   "execution_count": 90,
   "id": "caea3184-65fb-4abe-9acd-7c9e8d265e3c",
   "metadata": {},
   "outputs": [
    {
     "name": "stdout",
     "output_type": "stream",
     "text": [
      "Optimization terminated successfully.\n",
      "         Current function value: 0.450399\n",
      "         Iterations 6\n",
      "                           Logit Regression Results                           \n",
      "==============================================================================\n",
      "Dep. Variable:               Survived   No. Observations:                  891\n",
      "Model:                          Logit   Df Residuals:                      886\n",
      "Method:                           MLE   Df Model:                            4\n",
      "Date:                Mon, 07 Apr 2025   Pseudo R-squ.:                  0.3236\n",
      "Time:                        06:53:27   Log-Likelihood:                -401.31\n",
      "converged:                       True   LL-Null:                       -593.33\n",
      "Covariance Type:            nonrobust   LLR p-value:                 7.790e-82\n",
      "==============================================================================\n",
      "                 coef    std err          z      P>|z|      [0.025      0.975]\n",
      "------------------------------------------------------------------------------\n",
      "const          1.2710      0.315      4.031      0.000       0.653       1.889\n",
      "Pclass        -1.2297      0.142     -8.652      0.000      -1.508      -0.951\n",
      "Sex            2.6038      0.188     13.871      0.000       2.236       2.972\n",
      "Age           -0.4831      0.102     -4.741      0.000      -0.683      -0.283\n",
      "Fare           0.0173      0.101      0.171      0.864      -0.181       0.216\n",
      "==============================================================================\n"
     ]
    }
   ],
   "source": [
    "import statsmodels.api as sm\n",
    "X = sm.add_constant(df[['Pclass', 'Sex', 'Age', 'Fare']])\n",
    "y = df['Survived']\n",
    "logit_model = sm.Logit(y, X).fit()\n",
    "print(logit_model.summary())"
   ]
  },
  {
   "cell_type": "markdown",
   "id": "346cf35b-4e80-4a7b-ac9f-30f50e570897",
   "metadata": {},
   "source": [
    "I used statsmodels for inferential statistics to assess feature significance, and  \n",
    "scikit-learn's LogisticRegression for model evaluation and performance measurement."
   ]
  },
  {
   "cell_type": "code",
   "execution_count": null,
   "id": "e2e49c15-e33d-4ffe-8c62-f43131f6afc5",
   "metadata": {},
   "outputs": [],
   "source": []
  }
 ],
 "metadata": {
  "kernelspec": {
   "display_name": "Python 3 (ipykernel)",
   "language": "python",
   "name": "python3"
  },
  "language_info": {
   "codemirror_mode": {
    "name": "ipython",
    "version": 3
   },
   "file_extension": ".py",
   "mimetype": "text/x-python",
   "name": "python",
   "nbconvert_exporter": "python",
   "pygments_lexer": "ipython3",
   "version": "3.12.7"
  }
 },
 "nbformat": 4,
 "nbformat_minor": 5
}
